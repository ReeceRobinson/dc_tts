{
 "cells": [
  {
   "cell_type": "markdown",
   "metadata": {},
   "source": [
    "# Text Preparation Notebook\n",
    "This notebook reads a raw public domain book txt file and processes it for use in transfer learning."
   ]
  },
  {
   "cell_type": "code",
   "execution_count": 1,
   "metadata": {},
   "outputs": [],
   "source": [
    "from pyspark.sql import SparkSession\n",
    "spark = SparkSession.builder.appName(\"Text Processing\").getOrCreate()"
   ]
  },
  {
   "cell_type": "code",
   "execution_count": 2,
   "metadata": {},
   "outputs": [],
   "source": [
    "skip_lines = 426"
   ]
  },
  {
   "cell_type": "markdown",
   "metadata": {},
   "source": [
    "# Load the book text file\n",
    "Source: https://www.gutenberg.org/files/61043/61043-0.txt\n",
    "\n",
    "Title: The Color of a Great City\n",
    "\n",
    "Author: Theodore Dreiser"
   ]
  },
  {
   "cell_type": "code",
   "execution_count": 3,
   "metadata": {},
   "outputs": [],
   "source": [
    "raw_text = spark.read.text(\"data/61043-0.txt\")"
   ]
  },
  {
   "cell_type": "code",
   "execution_count": 4,
   "metadata": {},
   "outputs": [
    {
     "data": {
      "text/plain": [
       "Row(spoken='It was silent, the city of my dreams, marble and serene, due perhaps', normalised='It was silent, the city of my dreams, marble and serene, due perhaps', id=0)"
      ]
     },
     "execution_count": 4,
     "metadata": {},
     "output_type": "execute_result"
    }
   ],
   "source": [
    "from pyspark.sql.functions import col\n",
    "from pyspark.sql.functions import monotonically_increasing_id\n",
    "\n",
    "lines = raw_text.select(col('value').alias('spoken'))\n",
    "lines = lines.filter(~ lines.spoken.contains('['))\n",
    "lines = lines.withColumn('normalised',lines.spoken)\n",
    "lines = lines.withColumn(\"id\", monotonically_increasing_id())\n",
    "lines = lines.filter('id >= {0}'.format(skip_lines))\n",
    "lines = lines.filter(\"spoken != ''\")\n",
    "lines = lines.withColumn(\"id\", monotonically_increasing_id())\n",
    "\n",
    "lines.createOrReplaceTempView(\"lines\")\n",
    "lines.head()"
   ]
  },
  {
   "cell_type": "code",
   "execution_count": 5,
   "metadata": {},
   "outputs": [],
   "source": [
    "from pyspark.sql.types import StringType\n",
    "\n",
    "numbers_to_word = {\"1\": \"one\", \"2\": \"two\", \"3\": \"three\", \"4\": \"four\", \"5\": \"five\", \"6\": \"six\", \"7\": \"seven\", \"8\": \"eight\", \"9\":\"nine\"}\n",
    "abbr_to_word = {\"No.\": \"number\"}\n",
    "specials_handling = {\"--\":\" -- \"}\n",
    "\n",
    "def normaliseText(s):\n",
    "    s = s.strip()\n",
    "    for key, value in numbers_to_word.items():\n",
    "        s = s.replace(key,value)\n",
    "    for key, value in abbr_to_word.items():\n",
    "        s = s.replace(key,value)\n",
    "    for key, value in specials_handling.items():\n",
    "        s = s.replace(key,value)\n",
    "\n",
    "    return s\n",
    "\n",
    "def formatIndex(d):\n",
    "    return f'RR001-{d:04}'\n",
    "\n",
    "spark.udf.register(\"normaliseText\", normaliseText, StringType())\n",
    "spark.udf.register(\"formatIndex\", formatIndex, StringType());"
   ]
  },
  {
   "cell_type": "code",
   "execution_count": 6,
   "metadata": {},
   "outputs": [
    {
     "data": {
      "text/plain": [
       "[Row(index='RR001-0000', spoken='It was silent, the city of my dreams, marble and serene, due perhaps', normalised='It was silent, the city of my dreams, marble and serene, due perhaps'),\n",
       " Row(index='RR001-0001', spoken='to the fact that in reality I knew nothing of crowds, poverty, the', normalised='to the fact that in reality I knew nothing of crowds, poverty, the'),\n",
       " Row(index='RR001-0002', spoken='winds and storms of the inadequate that blow like dust along the paths', normalised='winds and storms of the inadequate that blow like dust along the paths'),\n",
       " Row(index='RR001-0003', spoken='of life. It was an amazing city, so far-flung, so beautiful, so dead.', normalised='of life. It was an amazing city, so far-flung, so beautiful, so dead.'),\n",
       " Row(index='RR001-0004', spoken='There were tracks of iron stalking through the air, and streets that', normalised='There were tracks of iron stalking through the air, and streets that')]"
      ]
     },
     "execution_count": 6,
     "metadata": {},
     "output_type": "execute_result"
    }
   ],
   "source": [
    "processed_lines = spark.sql(\"\"\"\n",
    "    select formatIndex(id) as index, spoken, normaliseText(normalised) as normalised\n",
    "    from lines\n",
    "\"\"\")\n",
    "processed_lines.head(n=5)"
   ]
  },
  {
   "cell_type": "markdown",
   "metadata": {},
   "source": [
    "# Generate sentence fragements\n",
    "Format the fragements into the output dataframe."
   ]
  },
  {
   "cell_type": "code",
   "execution_count": 7,
   "metadata": {},
   "outputs": [
    {
     "name": "stdout",
     "output_type": "stream",
     "text": [
      "root\n",
      " |-- index: string (nullable = true)\n",
      " |-- spoken: string (nullable = true)\n",
      " |-- normalised: string (nullable = true)\n",
      "\n"
     ]
    }
   ],
   "source": [
    "processed_lines.printSchema()"
   ]
  },
  {
   "cell_type": "code",
   "execution_count": 8,
   "metadata": {},
   "outputs": [
    {
     "data": {
      "text/html": [
       "<div>\n",
       "<style scoped>\n",
       "    .dataframe tbody tr th:only-of-type {\n",
       "        vertical-align: middle;\n",
       "    }\n",
       "\n",
       "    .dataframe tbody tr th {\n",
       "        vertical-align: top;\n",
       "    }\n",
       "\n",
       "    .dataframe thead th {\n",
       "        text-align: right;\n",
       "    }\n",
       "</style>\n",
       "<table border=\"1\" class=\"dataframe\">\n",
       "  <thead>\n",
       "    <tr style=\"text-align: right;\">\n",
       "      <th></th>\n",
       "      <th>index</th>\n",
       "      <th>spoken</th>\n",
       "      <th>normalised</th>\n",
       "    </tr>\n",
       "  </thead>\n",
       "  <tbody>\n",
       "    <tr>\n",
       "      <th>0</th>\n",
       "      <td>RR001-0000</td>\n",
       "      <td>It was silent, the city of my dreams, marble a...</td>\n",
       "      <td>It was silent, the city of my dreams, marble a...</td>\n",
       "    </tr>\n",
       "    <tr>\n",
       "      <th>1</th>\n",
       "      <td>RR001-0001</td>\n",
       "      <td>to the fact that in reality I knew nothing of ...</td>\n",
       "      <td>to the fact that in reality I knew nothing of ...</td>\n",
       "    </tr>\n",
       "    <tr>\n",
       "      <th>2</th>\n",
       "      <td>RR001-0002</td>\n",
       "      <td>winds and storms of the inadequate that blow l...</td>\n",
       "      <td>winds and storms of the inadequate that blow l...</td>\n",
       "    </tr>\n",
       "    <tr>\n",
       "      <th>3</th>\n",
       "      <td>RR001-0003</td>\n",
       "      <td>of life. It was an amazing city, so far-flung,...</td>\n",
       "      <td>of life. It was an amazing city, so far-flung,...</td>\n",
       "    </tr>\n",
       "    <tr>\n",
       "      <th>4</th>\n",
       "      <td>RR001-0004</td>\n",
       "      <td>There were tracks of iron stalking through the...</td>\n",
       "      <td>There were tracks of iron stalking through the...</td>\n",
       "    </tr>\n",
       "    <tr>\n",
       "      <th>...</th>\n",
       "      <td>...</td>\n",
       "      <td>...</td>\n",
       "      <td>...</td>\n",
       "    </tr>\n",
       "    <tr>\n",
       "      <th>6775</th>\n",
       "      <td>RR001-6775</td>\n",
       "      <td>http://www.gutenberg.org</td>\n",
       "      <td>http://www.gutenberg.org</td>\n",
       "    </tr>\n",
       "    <tr>\n",
       "      <th>6776</th>\n",
       "      <td>RR001-6776</td>\n",
       "      <td>This Web site includes information about Proje...</td>\n",
       "      <td>This Web site includes information about Proje...</td>\n",
       "    </tr>\n",
       "    <tr>\n",
       "      <th>6777</th>\n",
       "      <td>RR001-6777</td>\n",
       "      <td>including how to make donations to the Project...</td>\n",
       "      <td>including how to make donations to the Project...</td>\n",
       "    </tr>\n",
       "    <tr>\n",
       "      <th>6778</th>\n",
       "      <td>RR001-6778</td>\n",
       "      <td>Archive Foundation, how to help produce our ne...</td>\n",
       "      <td>Archive Foundation, how to help produce our ne...</td>\n",
       "    </tr>\n",
       "    <tr>\n",
       "      <th>6779</th>\n",
       "      <td>RR001-6779</td>\n",
       "      <td>subscribe to our email newsletter to hear abou...</td>\n",
       "      <td>subscribe to our email newsletter to hear abou...</td>\n",
       "    </tr>\n",
       "  </tbody>\n",
       "</table>\n",
       "<p>6780 rows × 3 columns</p>\n",
       "</div>"
      ],
      "text/plain": [
       "           index                                             spoken  \\\n",
       "0     RR001-0000  It was silent, the city of my dreams, marble a...   \n",
       "1     RR001-0001  to the fact that in reality I knew nothing of ...   \n",
       "2     RR001-0002  winds and storms of the inadequate that blow l...   \n",
       "3     RR001-0003  of life. It was an amazing city, so far-flung,...   \n",
       "4     RR001-0004  There were tracks of iron stalking through the...   \n",
       "...          ...                                                ...   \n",
       "6775  RR001-6775                           http://www.gutenberg.org   \n",
       "6776  RR001-6776  This Web site includes information about Proje...   \n",
       "6777  RR001-6777  including how to make donations to the Project...   \n",
       "6778  RR001-6778  Archive Foundation, how to help produce our ne...   \n",
       "6779  RR001-6779  subscribe to our email newsletter to hear abou...   \n",
       "\n",
       "                                             normalised  \n",
       "0     It was silent, the city of my dreams, marble a...  \n",
       "1     to the fact that in reality I knew nothing of ...  \n",
       "2     winds and storms of the inadequate that blow l...  \n",
       "3     of life. It was an amazing city, so far-flung,...  \n",
       "4     There were tracks of iron stalking through the...  \n",
       "...                                                 ...  \n",
       "6775                           http://www.gutenberg.org  \n",
       "6776  This Web site includes information about Proje...  \n",
       "6777  including how to make donations to the Project...  \n",
       "6778  Archive Foundation, how to help produce our ne...  \n",
       "6779  subscribe to our email newsletter to hear abou...  \n",
       "\n",
       "[6780 rows x 3 columns]"
      ]
     },
     "execution_count": 8,
     "metadata": {},
     "output_type": "execute_result"
    }
   ],
   "source": [
    "processed_lines_pd = processed_lines.toPandas()\n",
    "processed_lines_pd"
   ]
  },
  {
   "cell_type": "code",
   "execution_count": 9,
   "metadata": {},
   "outputs": [],
   "source": [
    "processed_lines_pd.to_csv(\"The-Color-of-a-Great-City.csv\", sep='|', index=False, header=False)"
   ]
  },
  {
   "cell_type": "code",
   "execution_count": null,
   "metadata": {},
   "outputs": [],
   "source": []
  }
 ],
 "metadata": {
  "kernelspec": {
   "display_name": "dc-tts",
   "language": "python",
   "name": "dc-tts"
  },
  "language_info": {
   "codemirror_mode": {
    "name": "ipython",
    "version": 3
   },
   "file_extension": ".py",
   "mimetype": "text/x-python",
   "name": "python",
   "nbconvert_exporter": "python",
   "pygments_lexer": "ipython3",
   "version": "3.7.3"
  }
 },
 "nbformat": 4,
 "nbformat_minor": 2
}
